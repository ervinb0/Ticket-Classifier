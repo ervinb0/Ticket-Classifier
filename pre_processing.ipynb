{
 "cells": [
  {
   "cell_type": "markdown",
   "metadata": {},
   "source": [
    "The text pre-processing steps"
   ]
  },
  {
   "cell_type": "markdown",
   "metadata": {},
   "source": [
    "Noise Removal"
   ]
  },
  {
   "cell_type": "code",
   "execution_count": 4,
   "metadata": {},
   "outputs": [],
   "source": [
    "import pandas as pd\n",
    "import re"
   ]
  },
  {
   "cell_type": "code",
   "execution_count": 24,
   "metadata": {},
   "outputs": [
    {
     "name": "stderr",
     "output_type": "stream",
     "text": [
      "python(65147) MallocStackLogging: can't turn off malloc stack logging because it was not enabled.\n"
     ]
    },
    {
     "name": "stdout",
     "output_type": "stream",
     "text": [
      "Collecting langdetect\n",
      "  Downloading langdetect-1.0.9.tar.gz (981 kB)\n",
      "\u001b[2K     \u001b[90m━━━━━━━━━━━━━━━━━━━━━━━━━━━━━━━━━━━━━━━\u001b[0m \u001b[32m981.5/981.5 kB\u001b[0m \u001b[31m4.3 MB/s\u001b[0m eta \u001b[36m0:00:00\u001b[0ma \u001b[36m0:00:01\u001b[0m\n",
      "\u001b[?25h  Preparing metadata (setup.py) ... \u001b[?25ldone\n",
      "\u001b[?25hRequirement already satisfied: six in /opt/anaconda3/envs/project_ai_course/lib/python3.12/site-packages (from langdetect) (1.16.0)\n",
      "Building wheels for collected packages: langdetect\n",
      "  Building wheel for langdetect (setup.py) ... \u001b[?25ldone\n",
      "\u001b[?25h  Created wheel for langdetect: filename=langdetect-1.0.9-py3-none-any.whl size=993222 sha256=fcd02ee5fa03c4ea78abf87d9466d98929132053fd194de9977df65d4d5751f2\n",
      "  Stored in directory: /Users/ervinballa/Library/Caches/pip/wheels/c1/67/88/e844b5b022812e15a52e4eaa38a1e709e99f06f6639d7e3ba7\n",
      "Successfully built langdetect\n",
      "Installing collected packages: langdetect\n",
      "Successfully installed langdetect-1.0.9\n",
      "Note: you may need to restart the kernel to use updated packages.\n"
     ]
    }
   ],
   "source": [
    "pip install langdetect"
   ]
  },
  {
   "cell_type": "code",
   "execution_count": 30,
   "metadata": {},
   "outputs": [
    {
     "name": "stderr",
     "output_type": "stream",
     "text": [
      "python(65932) MallocStackLogging: can't turn off malloc stack logging because it was not enabled.\n"
     ]
    },
    {
     "name": "stdout",
     "output_type": "stream",
     "text": [
      "Collecting matplotlib\n",
      "  Downloading matplotlib-3.9.2-cp312-cp312-macosx_10_12_x86_64.whl.metadata (11 kB)\n",
      "Collecting contourpy>=1.0.1 (from matplotlib)\n",
      "  Downloading contourpy-1.3.0-cp312-cp312-macosx_10_9_x86_64.whl.metadata (5.4 kB)\n",
      "Collecting cycler>=0.10 (from matplotlib)\n",
      "  Downloading cycler-0.12.1-py3-none-any.whl.metadata (3.8 kB)\n",
      "Collecting fonttools>=4.22.0 (from matplotlib)\n",
      "  Downloading fonttools-4.54.1-cp312-cp312-macosx_10_13_universal2.whl.metadata (163 kB)\n",
      "Collecting kiwisolver>=1.3.1 (from matplotlib)\n",
      "  Downloading kiwisolver-1.4.7-cp312-cp312-macosx_10_9_x86_64.whl.metadata (6.3 kB)\n",
      "Requirement already satisfied: numpy>=1.23 in /opt/anaconda3/envs/project_ai_course/lib/python3.12/site-packages (from matplotlib) (2.1.2)\n",
      "Requirement already satisfied: packaging>=20.0 in /opt/anaconda3/envs/project_ai_course/lib/python3.12/site-packages (from matplotlib) (24.1)\n",
      "Collecting pillow>=8 (from matplotlib)\n",
      "  Downloading pillow-11.0.0-cp312-cp312-macosx_10_13_x86_64.whl.metadata (9.1 kB)\n",
      "Collecting pyparsing>=2.3.1 (from matplotlib)\n",
      "  Downloading pyparsing-3.2.0-py3-none-any.whl.metadata (5.0 kB)\n",
      "Requirement already satisfied: python-dateutil>=2.7 in /opt/anaconda3/envs/project_ai_course/lib/python3.12/site-packages (from matplotlib) (2.9.0)\n",
      "Requirement already satisfied: six>=1.5 in /opt/anaconda3/envs/project_ai_course/lib/python3.12/site-packages (from python-dateutil>=2.7->matplotlib) (1.16.0)\n",
      "Downloading matplotlib-3.9.2-cp312-cp312-macosx_10_12_x86_64.whl (7.9 MB)\n",
      "\u001b[2K   \u001b[90m━━━━━━━━━━━━━━━━━━━━━━━━━━━━━━━━━━━━━━━━\u001b[0m \u001b[32m7.9/7.9 MB\u001b[0m \u001b[31m5.4 MB/s\u001b[0m eta \u001b[36m0:00:00\u001b[0m00:01\u001b[0m00:01\u001b[0m\n",
      "\u001b[?25hDownloading contourpy-1.3.0-cp312-cp312-macosx_10_9_x86_64.whl (267 kB)\n",
      "Downloading cycler-0.12.1-py3-none-any.whl (8.3 kB)\n",
      "Downloading fonttools-4.54.1-cp312-cp312-macosx_10_13_universal2.whl (2.8 MB)\n",
      "\u001b[2K   \u001b[90m━━━━━━━━━━━━━━━━━━━━━━━━━━━━━━━━━━━━━━━━\u001b[0m \u001b[32m2.8/2.8 MB\u001b[0m \u001b[31m6.8 MB/s\u001b[0m eta \u001b[36m0:00:00\u001b[0ma \u001b[36m0:00:01\u001b[0m\n",
      "\u001b[?25hDownloading kiwisolver-1.4.7-cp312-cp312-macosx_10_9_x86_64.whl (65 kB)\n",
      "Downloading pillow-11.0.0-cp312-cp312-macosx_10_13_x86_64.whl (3.1 MB)\n",
      "\u001b[2K   \u001b[90m━━━━━━━━━━━━━━━━━━━━━━━━━━━━━━━━━━━━━━━━\u001b[0m \u001b[32m3.1/3.1 MB\u001b[0m \u001b[31m6.9 MB/s\u001b[0m eta \u001b[36m0:00:00\u001b[0ma \u001b[36m0:00:01\u001b[0m\n",
      "\u001b[?25hDownloading pyparsing-3.2.0-py3-none-any.whl (106 kB)\n",
      "Installing collected packages: pyparsing, pillow, kiwisolver, fonttools, cycler, contourpy, matplotlib\n",
      "Successfully installed contourpy-1.3.0 cycler-0.12.1 fonttools-4.54.1 kiwisolver-1.4.7 matplotlib-3.9.2 pillow-11.0.0 pyparsing-3.2.0\n",
      "Note: you may need to restart the kernel to use updated packages.\n"
     ]
    }
   ],
   "source": [
    "pip install matplotlib"
   ]
  },
  {
   "cell_type": "code",
   "execution_count": 2,
   "metadata": {},
   "outputs": [
    {
     "data": {
      "text/plain": [
       "Index(['issue_url', 'issue_label', 'issue_created_at',\n",
       "       'issue_author_association', 'repository_url', 'issue_title',\n",
       "       'issue_body'],\n",
       "      dtype='object')"
      ]
     },
     "execution_count": 2,
     "metadata": {},
     "output_type": "execute_result"
    }
   ],
   "source": [
    "df = pd.read_csv('sample1.csv')\n",
    "df.columns"
   ]
  },
  {
   "cell_type": "code",
   "execution_count": null,
   "metadata": {},
   "outputs": [
    {
     "data": {
      "text/plain": [
       "<bound method NDFrame.head of 0        __tileSrcRect is null in Entities.ldtk Sample ...\n",
       "1        Update the blog link in the SEF Site **Describ...\n",
       "2        🐛 Parser cannot properly distinguish between p...\n",
       "3        \"Row added\" snackbar is not visible if the gri...\n",
       "4        [CRASH]  _tcp_write_on_socket crashes when flu...\n",
       "                               ...                        \n",
       "72284    [HELP] Volume Mount hostpath: Unable to mount ...\n",
       "72285    is form.progress valid for upload progress? I ...\n",
       "72286    RPi used for door contact sensors, warning in ...\n",
       "72287    Tail latency of envoy proxy is bad if every re...\n",
       "72288    Setting the date value programmatically  after...\n",
       "Name: text, Length: 72289, dtype: object>"
      ]
     },
     "execution_count": 17,
     "metadata": {},
     "output_type": "execute_result"
    }
   ],
   "source": [
    "df['text'] = df['issue_title']+ \" \" + df['issue_body'] #combining the fields\n",
    "df['text'].head\n"
   ]
  },
  {
   "cell_type": "code",
   "execution_count": 19,
   "metadata": {},
   "outputs": [
    {
     "data": {
      "text/plain": [
       "0    tileSrcRect is null in Entitiesldtk Sample But...\n",
       "1    Update the blog link in the SEF Site Describe ...\n",
       "2    Parser cannot properly distinguish between par...\n",
       "3    Row added snackbar is not visible if the grid ...\n",
       "4    CRASH tcpwriteonsocket crashes when flushing a...\n",
       "Name: cleaned_text, dtype: object"
      ]
     },
     "execution_count": 19,
     "metadata": {},
     "output_type": "execute_result"
    }
   ],
   "source": [
    "def remove_noise(text):\n",
    "    # Remove special characters and numbers except question marks\n",
    "    text = re.sub(r'[^a-zA-Z\\s?]', '', str(text))\n",
    "    # Remove extra spaces\n",
    "    text = re.sub(r'\\s+', ' ', text).strip()\n",
    "    return text\n",
    "\n",
    "df['cleaned_text'] = df['text'].apply(remove_noise)\n",
    "df['cleaned_text'].head()"
   ]
  },
  {
   "cell_type": "code",
   "execution_count": 22,
   "metadata": {},
   "outputs": [
    {
     "data": {
      "text/plain": [
       "0        tileSrcRect is null in Entitiesldtk Sample But...\n",
       "1        Update the blog link in the SEF Site Describe ...\n",
       "2        Parser cannot properly distinguish between par...\n",
       "3        Row added snackbar is not visible if the grid ...\n",
       "4        CRASH tcpwriteonsocket crashes when flushing a...\n",
       "                               ...                        \n",
       "72284    HELP Volume Mount hostpath Unable to mount vol...\n",
       "72285    is formprogress valid for upload progress? I t...\n",
       "72286    RPi used for door contact sensors warning in l...\n",
       "72287    Tail latency of envoy proxy is bad if every re...\n",
       "72288    Setting the date value programmatically after ...\n",
       "Name: cleaned_text, Length: 72289, dtype: object"
      ]
     },
     "execution_count": 22,
     "metadata": {},
     "output_type": "execute_result"
    }
   ],
   "source": [
    "# Function to check for emojis and links\n",
    "def contains_emojis_or_links(text):\n",
    "    emoji_pattern = re.compile(\"[\"\n",
    "                           u\"\\U0001F600-\\U0001F64F\"  # emoticons\n",
    "                           u\"\\U0001F300-\\U0001F5FF\"  # symbols & pictographs\n",
    "                           u\"\\U0001F680-\\U0001F6FF\"  # transport & map symbols\n",
    "                           u\"\\U0001F1E0-\\U0001F1FF\"  # flags (iOS)\n",
    "                           \"]+\", flags=re.UNICODE)\n",
    "    link_pattern = re.compile(r'http\\S+|www\\S+')\n",
    "    return bool(emoji_pattern.search(text)) or bool(link_pattern.search(text))\n",
    "\n",
    "# Function to remove emojis and links\n",
    "def remove_emojis_and_links(text):\n",
    "    emoji_pattern = re.compile(\"[\"\n",
    "                           u\"\\U0001F600-\\U0001F64F\"  # emoticons\n",
    "                           u\"\\U0001F300-\\U0001F5FF\"  # symbols & pictographs\n",
    "                           u\"\\U0001F680-\\U0001F6FF\"  # transport & map symbols\n",
    "                           u\"\\U0001F1E0-\\U0001F1FF\"  # flags (iOS)\n",
    "                           \"]+\", flags=re.UNICODE)\n",
    "    link_pattern = re.compile(r'http\\S+|www\\S+')\n",
    "    text = emoji_pattern.sub(r'', text)\n",
    "    text = link_pattern.sub(r'', text)\n",
    "    return text\n",
    "\n",
    "# Check for emojis or links\n",
    "df['contains_emojis_or_links'] = df['cleaned_text'].apply(contains_emojis_or_links)\n",
    "\n",
    "# Remove emojis and links\n",
    "df['cleaned_text'] = df['cleaned_text'].apply(remove_emojis_and_links)\n",
    "\n",
    "# Display the updated dataframe\n",
    "df['cleaned_text']"
   ]
  },
  {
   "cell_type": "markdown",
   "metadata": {},
   "source": [
    "Filtering out non English text"
   ]
  },
  {
   "cell_type": "code",
   "execution_count": 25,
   "metadata": {},
   "outputs": [],
   "source": [
    "from langdetect import detect, DetectorFactory"
   ]
  },
  {
   "cell_type": "code",
   "execution_count": 26,
   "metadata": {},
   "outputs": [],
   "source": [
    "DetectorFactory.seed = 0"
   ]
  },
  {
   "cell_type": "code",
   "execution_count": 27,
   "metadata": {},
   "outputs": [],
   "source": [
    "def is_english(text):\n",
    "    try:\n",
    "        return detect(text) == 'en' \n",
    "    except:\n",
    "        return False  # Return False if detection fails\n",
    "\n",
    "# Applying the language detection function to filter only English records\n",
    "df = df[df['text'].apply(is_english)]\n",
    "\n"
   ]
  },
  {
   "cell_type": "code",
   "execution_count": 28,
   "metadata": {},
   "outputs": [
    {
     "data": {
      "text/html": [
       "<div>\n",
       "<style scoped>\n",
       "    .dataframe tbody tr th:only-of-type {\n",
       "        vertical-align: middle;\n",
       "    }\n",
       "\n",
       "    .dataframe tbody tr th {\n",
       "        vertical-align: top;\n",
       "    }\n",
       "\n",
       "    .dataframe thead th {\n",
       "        text-align: right;\n",
       "    }\n",
       "</style>\n",
       "<table border=\"1\" class=\"dataframe\">\n",
       "  <thead>\n",
       "    <tr style=\"text-align: right;\">\n",
       "      <th></th>\n",
       "      <th>issue_url</th>\n",
       "      <th>issue_label</th>\n",
       "      <th>issue_created_at</th>\n",
       "      <th>issue_author_association</th>\n",
       "      <th>repository_url</th>\n",
       "      <th>issue_title</th>\n",
       "      <th>issue_body</th>\n",
       "      <th>text</th>\n",
       "      <th>cleaned_text</th>\n",
       "      <th>contains_emojis_or_links</th>\n",
       "    </tr>\n",
       "  </thead>\n",
       "  <tbody>\n",
       "    <tr>\n",
       "      <th>0</th>\n",
       "      <td>https://api.github.com/repos/deepnight/ldtk/is...</td>\n",
       "      <td>bug</td>\n",
       "      <td>2021-03-10T01:39:16Z</td>\n",
       "      <td>CONTRIBUTOR</td>\n",
       "      <td>https://api.github.com/repos/deepnight/ldtk</td>\n",
       "      <td>__tileSrcRect is null in Entities.ldtk Sample ...</td>\n",
       "      <td>In the Entities example, we there are some `__...</td>\n",
       "      <td>__tileSrcRect is null in Entities.ldtk Sample ...</td>\n",
       "      <td>tileSrcRect is null in Entitiesldtk Sample But...</td>\n",
       "      <td>False</td>\n",
       "    </tr>\n",
       "    <tr>\n",
       "      <th>1</th>\n",
       "      <td>https://api.github.com/repos/sef-global/sef-si...</td>\n",
       "      <td>bug</td>\n",
       "      <td>2021-01-30T13:51:30Z</td>\n",
       "      <td>COLLABORATOR</td>\n",
       "      <td>https://api.github.com/repos/sef-global/sef-site</td>\n",
       "      <td>Update the blog link in the SEF Site</td>\n",
       "      <td>**Describe the bug**\\r\\nUpdate the blog link i...</td>\n",
       "      <td>Update the blog link in the SEF Site **Describ...</td>\n",
       "      <td>Update the blog link in the SEF Site Describe ...</td>\n",
       "      <td>False</td>\n",
       "    </tr>\n",
       "    <tr>\n",
       "      <th>2</th>\n",
       "      <td>https://api.github.com/repos/cherry-script/che...</td>\n",
       "      <td>bug</td>\n",
       "      <td>2021-04-07T13:38:24Z</td>\n",
       "      <td>CONTRIBUTOR</td>\n",
       "      <td>https://api.github.com/repos/cherry-script/che...</td>\n",
       "      <td>🐛 Parser cannot properly distinguish between p...</td>\n",
       "      <td>Consider these two expressions:\\r\\n```\\r\\nf (g...</td>\n",
       "      <td>🐛 Parser cannot properly distinguish between p...</td>\n",
       "      <td>Parser cannot properly distinguish between par...</td>\n",
       "      <td>False</td>\n",
       "    </tr>\n",
       "    <tr>\n",
       "      <th>3</th>\n",
       "      <td>https://api.github.com/repos/IgniteUI/igniteui...</td>\n",
       "      <td>bug</td>\n",
       "      <td>2020-10-16T15:41:48Z</td>\n",
       "      <td>CONTRIBUTOR</td>\n",
       "      <td>https://api.github.com/repos/IgniteUI/igniteui...</td>\n",
       "      <td>\"Row added\" snackbar is not visible if the gri...</td>\n",
       "      <td>## Description  \\r\\nWhen grid has no height an...</td>\n",
       "      <td>\"Row added\" snackbar is not visible if the gri...</td>\n",
       "      <td>Row added snackbar is not visible if the grid ...</td>\n",
       "      <td>False</td>\n",
       "    </tr>\n",
       "    <tr>\n",
       "      <th>4</th>\n",
       "      <td>https://api.github.com/repos/OpenSIPS/opensips...</td>\n",
       "      <td>bug</td>\n",
       "      <td>2020-09-21T21:22:05Z</td>\n",
       "      <td>NONE</td>\n",
       "      <td>https://api.github.com/repos/OpenSIPS/opensips</td>\n",
       "      <td>[CRASH]  _tcp_write_on_socket crashes when flu...</td>\n",
       "      <td>&lt;!--\\r\\nThank you for reporting a crash in Ope...</td>\n",
       "      <td>[CRASH]  _tcp_write_on_socket crashes when flu...</td>\n",
       "      <td>CRASH tcpwriteonsocket crashes when flushing a...</td>\n",
       "      <td>False</td>\n",
       "    </tr>\n",
       "    <tr>\n",
       "      <th>...</th>\n",
       "      <td>...</td>\n",
       "      <td>...</td>\n",
       "      <td>...</td>\n",
       "      <td>...</td>\n",
       "      <td>...</td>\n",
       "      <td>...</td>\n",
       "      <td>...</td>\n",
       "      <td>...</td>\n",
       "      <td>...</td>\n",
       "      <td>...</td>\n",
       "    </tr>\n",
       "    <tr>\n",
       "      <th>72284</th>\n",
       "      <td>https://api.github.com/repos/rancher/k3d/issue...</td>\n",
       "      <td>question</td>\n",
       "      <td>2021-04-03T01:21:15Z</td>\n",
       "      <td>NONE</td>\n",
       "      <td>https://api.github.com/repos/rancher/k3d</td>\n",
       "      <td>[HELP] Volume Mount hostpath: Unable to mount ...</td>\n",
       "      <td>hi Team I am facing the below issue. Any solut...</td>\n",
       "      <td>[HELP] Volume Mount hostpath: Unable to mount ...</td>\n",
       "      <td>HELP Volume Mount hostpath Unable to mount vol...</td>\n",
       "      <td>False</td>\n",
       "    </tr>\n",
       "    <tr>\n",
       "      <th>72285</th>\n",
       "      <td>https://api.github.com/repos/node-formidable/f...</td>\n",
       "      <td>question</td>\n",
       "      <td>2020-02-17T12:38:57Z</td>\n",
       "      <td>NONE</td>\n",
       "      <td>https://api.github.com/repos/node-formidable/f...</td>\n",
       "      <td>is form.progress valid for upload progress?</td>\n",
       "      <td>I thought form.progress would get fired every ...</td>\n",
       "      <td>is form.progress valid for upload progress? I ...</td>\n",
       "      <td>is formprogress valid for upload progress? I t...</td>\n",
       "      <td>False</td>\n",
       "    </tr>\n",
       "    <tr>\n",
       "      <th>72286</th>\n",
       "      <td>https://api.github.com/repos/ebaauw/homebridge...</td>\n",
       "      <td>question</td>\n",
       "      <td>2021-03-16T00:45:36Z</td>\n",
       "      <td>NONE</td>\n",
       "      <td>https://api.github.com/repos/ebaauw/homebridge...</td>\n",
       "      <td>RPi used for door contact sensors, warning in log</td>\n",
       "      <td>Thank you for the most excellent plug-in!! \\r\\...</td>\n",
       "      <td>RPi used for door contact sensors, warning in ...</td>\n",
       "      <td>RPi used for door contact sensors warning in l...</td>\n",
       "      <td>False</td>\n",
       "    </tr>\n",
       "    <tr>\n",
       "      <th>72287</th>\n",
       "      <td>https://api.github.com/repos/envoyproxy/envoy/...</td>\n",
       "      <td>question</td>\n",
       "      <td>2020-08-18T23:28:15Z</td>\n",
       "      <td>NONE</td>\n",
       "      <td>https://api.github.com/repos/envoyproxy/envoy</td>\n",
       "      <td>Tail latency of envoy proxy is bad if every re...</td>\n",
       "      <td>We have envoy running as the front door servic...</td>\n",
       "      <td>Tail latency of envoy proxy is bad if every re...</td>\n",
       "      <td>Tail latency of envoy proxy is bad if every re...</td>\n",
       "      <td>False</td>\n",
       "    </tr>\n",
       "    <tr>\n",
       "      <th>72288</th>\n",
       "      <td>https://api.github.com/repos/jonthornton/Datep...</td>\n",
       "      <td>question</td>\n",
       "      <td>2020-02-24T13:51:01Z</td>\n",
       "      <td>NONE</td>\n",
       "      <td>https://api.github.com/repos/jonthornton/Datep...</td>\n",
       "      <td>Setting the date value programmatically  after...</td>\n",
       "      <td>Hi,  Im using this Datepair, but i'm strugglin...</td>\n",
       "      <td>Setting the date value programmatically  after...</td>\n",
       "      <td>Setting the date value programmatically after ...</td>\n",
       "      <td>False</td>\n",
       "    </tr>\n",
       "  </tbody>\n",
       "</table>\n",
       "<p>59973 rows × 10 columns</p>\n",
       "</div>"
      ],
      "text/plain": [
       "                                               issue_url issue_label  \\\n",
       "0      https://api.github.com/repos/deepnight/ldtk/is...         bug   \n",
       "1      https://api.github.com/repos/sef-global/sef-si...         bug   \n",
       "2      https://api.github.com/repos/cherry-script/che...         bug   \n",
       "3      https://api.github.com/repos/IgniteUI/igniteui...         bug   \n",
       "4      https://api.github.com/repos/OpenSIPS/opensips...         bug   \n",
       "...                                                  ...         ...   \n",
       "72284  https://api.github.com/repos/rancher/k3d/issue...    question   \n",
       "72285  https://api.github.com/repos/node-formidable/f...    question   \n",
       "72286  https://api.github.com/repos/ebaauw/homebridge...    question   \n",
       "72287  https://api.github.com/repos/envoyproxy/envoy/...    question   \n",
       "72288  https://api.github.com/repos/jonthornton/Datep...    question   \n",
       "\n",
       "           issue_created_at issue_author_association  \\\n",
       "0      2021-03-10T01:39:16Z              CONTRIBUTOR   \n",
       "1      2021-01-30T13:51:30Z             COLLABORATOR   \n",
       "2      2021-04-07T13:38:24Z              CONTRIBUTOR   \n",
       "3      2020-10-16T15:41:48Z              CONTRIBUTOR   \n",
       "4      2020-09-21T21:22:05Z                     NONE   \n",
       "...                     ...                      ...   \n",
       "72284  2021-04-03T01:21:15Z                     NONE   \n",
       "72285  2020-02-17T12:38:57Z                     NONE   \n",
       "72286  2021-03-16T00:45:36Z                     NONE   \n",
       "72287  2020-08-18T23:28:15Z                     NONE   \n",
       "72288  2020-02-24T13:51:01Z                     NONE   \n",
       "\n",
       "                                          repository_url  \\\n",
       "0            https://api.github.com/repos/deepnight/ldtk   \n",
       "1       https://api.github.com/repos/sef-global/sef-site   \n",
       "2      https://api.github.com/repos/cherry-script/che...   \n",
       "3      https://api.github.com/repos/IgniteUI/igniteui...   \n",
       "4         https://api.github.com/repos/OpenSIPS/opensips   \n",
       "...                                                  ...   \n",
       "72284           https://api.github.com/repos/rancher/k3d   \n",
       "72285  https://api.github.com/repos/node-formidable/f...   \n",
       "72286  https://api.github.com/repos/ebaauw/homebridge...   \n",
       "72287      https://api.github.com/repos/envoyproxy/envoy   \n",
       "72288  https://api.github.com/repos/jonthornton/Datep...   \n",
       "\n",
       "                                             issue_title  \\\n",
       "0      __tileSrcRect is null in Entities.ldtk Sample ...   \n",
       "1                   Update the blog link in the SEF Site   \n",
       "2      🐛 Parser cannot properly distinguish between p...   \n",
       "3      \"Row added\" snackbar is not visible if the gri...   \n",
       "4      [CRASH]  _tcp_write_on_socket crashes when flu...   \n",
       "...                                                  ...   \n",
       "72284  [HELP] Volume Mount hostpath: Unable to mount ...   \n",
       "72285        is form.progress valid for upload progress?   \n",
       "72286  RPi used for door contact sensors, warning in log   \n",
       "72287  Tail latency of envoy proxy is bad if every re...   \n",
       "72288  Setting the date value programmatically  after...   \n",
       "\n",
       "                                              issue_body  \\\n",
       "0      In the Entities example, we there are some `__...   \n",
       "1      **Describe the bug**\\r\\nUpdate the blog link i...   \n",
       "2      Consider these two expressions:\\r\\n```\\r\\nf (g...   \n",
       "3      ## Description  \\r\\nWhen grid has no height an...   \n",
       "4      <!--\\r\\nThank you for reporting a crash in Ope...   \n",
       "...                                                  ...   \n",
       "72284  hi Team I am facing the below issue. Any solut...   \n",
       "72285  I thought form.progress would get fired every ...   \n",
       "72286  Thank you for the most excellent plug-in!! \\r\\...   \n",
       "72287  We have envoy running as the front door servic...   \n",
       "72288  Hi,  Im using this Datepair, but i'm strugglin...   \n",
       "\n",
       "                                                    text  \\\n",
       "0      __tileSrcRect is null in Entities.ldtk Sample ...   \n",
       "1      Update the blog link in the SEF Site **Describ...   \n",
       "2      🐛 Parser cannot properly distinguish between p...   \n",
       "3      \"Row added\" snackbar is not visible if the gri...   \n",
       "4      [CRASH]  _tcp_write_on_socket crashes when flu...   \n",
       "...                                                  ...   \n",
       "72284  [HELP] Volume Mount hostpath: Unable to mount ...   \n",
       "72285  is form.progress valid for upload progress? I ...   \n",
       "72286  RPi used for door contact sensors, warning in ...   \n",
       "72287  Tail latency of envoy proxy is bad if every re...   \n",
       "72288  Setting the date value programmatically  after...   \n",
       "\n",
       "                                            cleaned_text  \\\n",
       "0      tileSrcRect is null in Entitiesldtk Sample But...   \n",
       "1      Update the blog link in the SEF Site Describe ...   \n",
       "2      Parser cannot properly distinguish between par...   \n",
       "3      Row added snackbar is not visible if the grid ...   \n",
       "4      CRASH tcpwriteonsocket crashes when flushing a...   \n",
       "...                                                  ...   \n",
       "72284  HELP Volume Mount hostpath Unable to mount vol...   \n",
       "72285  is formprogress valid for upload progress? I t...   \n",
       "72286  RPi used for door contact sensors warning in l...   \n",
       "72287  Tail latency of envoy proxy is bad if every re...   \n",
       "72288  Setting the date value programmatically after ...   \n",
       "\n",
       "       contains_emojis_or_links  \n",
       "0                         False  \n",
       "1                         False  \n",
       "2                         False  \n",
       "3                         False  \n",
       "4                         False  \n",
       "...                         ...  \n",
       "72284                     False  \n",
       "72285                     False  \n",
       "72286                     False  \n",
       "72287                     False  \n",
       "72288                     False  \n",
       "\n",
       "[59973 rows x 10 columns]"
      ]
     },
     "execution_count": 28,
     "metadata": {},
     "output_type": "execute_result"
    }
   ],
   "source": [
    "df"
   ]
  },
  {
   "cell_type": "markdown",
   "metadata": {},
   "source": [
    "Question mark counter"
   ]
  },
  {
   "cell_type": "code",
   "execution_count": 31,
   "metadata": {},
   "outputs": [
    {
     "name": "stderr",
     "output_type": "stream",
     "text": [
      "python(65960) MallocStackLogging: can't turn off malloc stack logging because it was not enabled.\n",
      "python(65961) MallocStackLogging: can't turn off malloc stack logging because it was not enabled.\n",
      "python(65962) MallocStackLogging: can't turn off malloc stack logging because it was not enabled.\n",
      "Matplotlib is building the font cache; this may take a moment.\n"
     ]
    }
   ],
   "source": [
    "\n",
    "from matplotlib import pyplot as plt\n"
   ]
  },
  {
   "cell_type": "code",
   "execution_count": 32,
   "metadata": {},
   "outputs": [
    {
     "data": {
      "image/png": "[encoded data removed]",
      "text/plain": [
       "<Figure size 640x480 with 1 Axes>"
      ]
     },
     "metadata": {},
     "output_type": "display_data"
    }
   ],
   "source": [
    "df['qm_counter'] = df['issue_body'].str.count(r'\\?')\n",
    "df.groupby('issue_label')['qm_counter'].mean()\n",
    "df.boxplot(column='qm_counter', by='issue_label')\n",
    "plt.show()"
   ]
  }
 ],
 "metadata": {
  "kernelspec": {
   "display_name": "project_ai_course",
   "language": "python",
   "name": "python3"
  },
  "language_info": {
   "codemirror_mode": {
    "name": "ipython",
    "version": 3
   },
   "file_extension": ".py",
   "mimetype": "text/x-python",
   "name": "python",
   "nbconvert_exporter": "python",
   "pygments_lexer": "ipython3",
   "version": "3.12.7"
  }
 },
 "nbformat": 4,
 "nbformat_minor": 2
}
