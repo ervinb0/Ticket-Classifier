{
 "cells": [
  {
   "cell_type": "code",
   "execution_count": 1,
   "metadata": {},
   "outputs": [
    {
     "name": "stderr",
     "output_type": "stream",
     "text": [
      "[nltk_data] Downloading package punkt to\n",
      "[nltk_data]     /Users/ervinballa/nltk_data...\n",
      "[nltk_data]   Package punkt is already up-to-date!\n",
      "[nltk_data] Downloading package stopwords to\n",
      "[nltk_data]     /Users/ervinballa/nltk_data...\n",
      "[nltk_data]   Package stopwords is already up-to-date!\n",
      "[nltk_data] Downloading package wordnet to\n",
      "[nltk_data]     /Users/ervinballa/nltk_data...\n"
     ]
    }
   ],
   "source": [
    "from models.text_pre_processor import preprocess_text\n",
    "import pandas as pd"
   ]
  },
  {
   "cell_type": "code",
   "execution_count": 6,
   "metadata": {},
   "outputs": [],
   "source": [
    "from langdetect import detect"
   ]
  },
  {
   "cell_type": "code",
   "execution_count": 2,
   "metadata": {},
   "outputs": [
    {
     "data": {
      "text/plain": [
       "Index(['issue_url', 'issue_label', 'issue_created_at',\n",
       "       'issue_author_association', 'repository_url', 'issue_title',\n",
       "       'issue_body'],\n",
       "      dtype='object')"
      ]
     },
     "execution_count": 2,
     "metadata": {},
     "output_type": "execute_result"
    }
   ],
   "source": [
    "df = pd.read_csv('datasets/sample1.csv')\n",
    "df.columns"
   ]
  },
  {
   "cell_type": "code",
   "execution_count": 3,
   "metadata": {},
   "outputs": [
    {
     "data": {
      "text/plain": [
       "<bound method NDFrame.head of 0        __tileSrcRect is null in Entities.ldtk Sample ...\n",
       "1        Update the blog link in the SEF Site **Describ...\n",
       "2        🐛 Parser cannot properly distinguish between p...\n",
       "3        \"Row added\" snackbar is not visible if the gri...\n",
       "4        [CRASH]  _tcp_write_on_socket crashes when flu...\n",
       "                               ...                        \n",
       "72284    [HELP] Volume Mount hostpath: Unable to mount ...\n",
       "72285    is form.progress valid for upload progress? I ...\n",
       "72286    RPi used for door contact sensors, warning in ...\n",
       "72287    Tail latency of envoy proxy is bad if every re...\n",
       "72288    Setting the date value programmatically  after...\n",
       "Name: text, Length: 72289, dtype: object>"
      ]
     },
     "execution_count": 3,
     "metadata": {},
     "output_type": "execute_result"
    }
   ],
   "source": [
    "df['text'] = df['issue_title']+ \" \" + df['issue_body'] #combining the fields\n",
    "df['text'].head"
   ]
  },
  {
   "cell_type": "code",
   "execution_count": 4,
   "metadata": {},
   "outputs": [
    {
     "data": {
      "text/plain": [
       "0    tilesrcrect null entitiesldtk sample nullable ...\n",
       "1    update blog link sef site describe bug update ...\n",
       "2    parser properly distinguish parenthesised expr...\n",
       "3    row added snackbar visible grid small height d...\n",
       "4    crash tcpwriteonsocket crash flushing async pe...\n",
       "Name: processed_text, dtype: object"
      ]
     },
     "execution_count": 4,
     "metadata": {},
     "output_type": "execute_result"
    }
   ],
   "source": [
    "df['processed_text'] = df['text'].apply(preprocess_text)\n",
    "df['processed_text'].head()"
   ]
  },
  {
   "cell_type": "code",
   "execution_count": 5,
   "metadata": {},
   "outputs": [
    {
     "data": {
      "text/plain": [
       "0        tilesrcrect null entitiesldtk sample nullable ...\n",
       "1        update blog link sef site describe bug update ...\n",
       "2        parser properly distinguish parenthesised expr...\n",
       "3        row added snackbar visible grid small height d...\n",
       "4        crash tcpwriteonsocket crash flushing async pe...\n",
       "                               ...                        \n",
       "72284    help volume mount hostpath unable mount volume...\n",
       "72285    formprogress valid upload progress thought for...\n",
       "72286    rpi used door contact sensor warning log thank...\n",
       "72287    tail latency envoy proxy bad every request cre...\n",
       "72288    setting date value programmatically initialisa...\n",
       "Name: processed_text, Length: 72289, dtype: object"
      ]
     },
     "execution_count": 5,
     "metadata": {},
     "output_type": "execute_result"
    }
   ],
   "source": [
    "df['processed_text']"
   ]
  },
  {
   "cell_type": "code",
   "execution_count": 7,
   "metadata": {},
   "outputs": [],
   "source": [
    "def is_english(text):\n",
    "    try:\n",
    "        return detect(text) == 'en' \n",
    "    except:\n",
    "        return False  # Return False if detection fails"
   ]
  },
  {
   "cell_type": "code",
   "execution_count": 8,
   "metadata": {},
   "outputs": [],
   "source": [
    "df = df[df['processed_text'].apply(is_english)]"
   ]
  },
  {
   "cell_type": "code",
   "execution_count": 9,
   "metadata": {},
   "outputs": [
    {
     "data": {
      "text/html": [
       "<div>\n",
       "<style scoped>\n",
       "    .dataframe tbody tr th:only-of-type {\n",
       "        vertical-align: middle;\n",
       "    }\n",
       "\n",
       "    .dataframe tbody tr th {\n",
       "        vertical-align: top;\n",
       "    }\n",
       "\n",
       "    .dataframe thead th {\n",
       "        text-align: right;\n",
       "    }\n",
       "</style>\n",
       "<table border=\"1\" class=\"dataframe\">\n",
       "  <thead>\n",
       "    <tr style=\"text-align: right;\">\n",
       "      <th></th>\n",
       "      <th>issue_url</th>\n",
       "      <th>issue_label</th>\n",
       "      <th>issue_created_at</th>\n",
       "      <th>issue_author_association</th>\n",
       "      <th>repository_url</th>\n",
       "      <th>issue_title</th>\n",
       "      <th>issue_body</th>\n",
       "      <th>text</th>\n",
       "      <th>processed_text</th>\n",
       "    </tr>\n",
       "  </thead>\n",
       "  <tbody>\n",
       "    <tr>\n",
       "      <th>0</th>\n",
       "      <td>https://api.github.com/repos/deepnight/ldtk/is...</td>\n",
       "      <td>bug</td>\n",
       "      <td>2021-03-10T01:39:16Z</td>\n",
       "      <td>CONTRIBUTOR</td>\n",
       "      <td>https://api.github.com/repos/deepnight/ldtk</td>\n",
       "      <td>__tileSrcRect is null in Entities.ldtk Sample ...</td>\n",
       "      <td>In the Entities example, we there are some `__...</td>\n",
       "      <td>__tileSrcRect is null in Entities.ldtk Sample ...</td>\n",
       "      <td>tilesrcrect null entitiesldtk sample nullable ...</td>\n",
       "    </tr>\n",
       "    <tr>\n",
       "      <th>1</th>\n",
       "      <td>https://api.github.com/repos/sef-global/sef-si...</td>\n",
       "      <td>bug</td>\n",
       "      <td>2021-01-30T13:51:30Z</td>\n",
       "      <td>COLLABORATOR</td>\n",
       "      <td>https://api.github.com/repos/sef-global/sef-site</td>\n",
       "      <td>Update the blog link in the SEF Site</td>\n",
       "      <td>**Describe the bug**\\r\\nUpdate the blog link i...</td>\n",
       "      <td>Update the blog link in the SEF Site **Describ...</td>\n",
       "      <td>update blog link sef site describe bug update ...</td>\n",
       "    </tr>\n",
       "    <tr>\n",
       "      <th>2</th>\n",
       "      <td>https://api.github.com/repos/cherry-script/che...</td>\n",
       "      <td>bug</td>\n",
       "      <td>2021-04-07T13:38:24Z</td>\n",
       "      <td>CONTRIBUTOR</td>\n",
       "      <td>https://api.github.com/repos/cherry-script/che...</td>\n",
       "      <td>🐛 Parser cannot properly distinguish between p...</td>\n",
       "      <td>Consider these two expressions:\\r\\n```\\r\\nf (g...</td>\n",
       "      <td>🐛 Parser cannot properly distinguish between p...</td>\n",
       "      <td>parser properly distinguish parenthesised expr...</td>\n",
       "    </tr>\n",
       "    <tr>\n",
       "      <th>3</th>\n",
       "      <td>https://api.github.com/repos/IgniteUI/igniteui...</td>\n",
       "      <td>bug</td>\n",
       "      <td>2020-10-16T15:41:48Z</td>\n",
       "      <td>CONTRIBUTOR</td>\n",
       "      <td>https://api.github.com/repos/IgniteUI/igniteui...</td>\n",
       "      <td>\"Row added\" snackbar is not visible if the gri...</td>\n",
       "      <td>## Description  \\r\\nWhen grid has no height an...</td>\n",
       "      <td>\"Row added\" snackbar is not visible if the gri...</td>\n",
       "      <td>row added snackbar visible grid small height d...</td>\n",
       "    </tr>\n",
       "    <tr>\n",
       "      <th>4</th>\n",
       "      <td>https://api.github.com/repos/OpenSIPS/opensips...</td>\n",
       "      <td>bug</td>\n",
       "      <td>2020-09-21T21:22:05Z</td>\n",
       "      <td>NONE</td>\n",
       "      <td>https://api.github.com/repos/OpenSIPS/opensips</td>\n",
       "      <td>[CRASH]  _tcp_write_on_socket crashes when flu...</td>\n",
       "      <td>&lt;!--\\r\\nThank you for reporting a crash in Ope...</td>\n",
       "      <td>[CRASH]  _tcp_write_on_socket crashes when flu...</td>\n",
       "      <td>crash tcpwriteonsocket crash flushing async pe...</td>\n",
       "    </tr>\n",
       "    <tr>\n",
       "      <th>...</th>\n",
       "      <td>...</td>\n",
       "      <td>...</td>\n",
       "      <td>...</td>\n",
       "      <td>...</td>\n",
       "      <td>...</td>\n",
       "      <td>...</td>\n",
       "      <td>...</td>\n",
       "      <td>...</td>\n",
       "      <td>...</td>\n",
       "    </tr>\n",
       "    <tr>\n",
       "      <th>72284</th>\n",
       "      <td>https://api.github.com/repos/rancher/k3d/issue...</td>\n",
       "      <td>question</td>\n",
       "      <td>2021-04-03T01:21:15Z</td>\n",
       "      <td>NONE</td>\n",
       "      <td>https://api.github.com/repos/rancher/k3d</td>\n",
       "      <td>[HELP] Volume Mount hostpath: Unable to mount ...</td>\n",
       "      <td>hi Team I am facing the below issue. Any solut...</td>\n",
       "      <td>[HELP] Volume Mount hostpath: Unable to mount ...</td>\n",
       "      <td>help volume mount hostpath unable mount volume...</td>\n",
       "    </tr>\n",
       "    <tr>\n",
       "      <th>72285</th>\n",
       "      <td>https://api.github.com/repos/node-formidable/f...</td>\n",
       "      <td>question</td>\n",
       "      <td>2020-02-17T12:38:57Z</td>\n",
       "      <td>NONE</td>\n",
       "      <td>https://api.github.com/repos/node-formidable/f...</td>\n",
       "      <td>is form.progress valid for upload progress?</td>\n",
       "      <td>I thought form.progress would get fired every ...</td>\n",
       "      <td>is form.progress valid for upload progress? I ...</td>\n",
       "      <td>formprogress valid upload progress thought for...</td>\n",
       "    </tr>\n",
       "    <tr>\n",
       "      <th>72286</th>\n",
       "      <td>https://api.github.com/repos/ebaauw/homebridge...</td>\n",
       "      <td>question</td>\n",
       "      <td>2021-03-16T00:45:36Z</td>\n",
       "      <td>NONE</td>\n",
       "      <td>https://api.github.com/repos/ebaauw/homebridge...</td>\n",
       "      <td>RPi used for door contact sensors, warning in log</td>\n",
       "      <td>Thank you for the most excellent plug-in!! \\r\\...</td>\n",
       "      <td>RPi used for door contact sensors, warning in ...</td>\n",
       "      <td>rpi used door contact sensor warning log thank...</td>\n",
       "    </tr>\n",
       "    <tr>\n",
       "      <th>72287</th>\n",
       "      <td>https://api.github.com/repos/envoyproxy/envoy/...</td>\n",
       "      <td>question</td>\n",
       "      <td>2020-08-18T23:28:15Z</td>\n",
       "      <td>NONE</td>\n",
       "      <td>https://api.github.com/repos/envoyproxy/envoy</td>\n",
       "      <td>Tail latency of envoy proxy is bad if every re...</td>\n",
       "      <td>We have envoy running as the front door servic...</td>\n",
       "      <td>Tail latency of envoy proxy is bad if every re...</td>\n",
       "      <td>tail latency envoy proxy bad every request cre...</td>\n",
       "    </tr>\n",
       "    <tr>\n",
       "      <th>72288</th>\n",
       "      <td>https://api.github.com/repos/jonthornton/Datep...</td>\n",
       "      <td>question</td>\n",
       "      <td>2020-02-24T13:51:01Z</td>\n",
       "      <td>NONE</td>\n",
       "      <td>https://api.github.com/repos/jonthornton/Datep...</td>\n",
       "      <td>Setting the date value programmatically  after...</td>\n",
       "      <td>Hi,  Im using this Datepair, but i'm strugglin...</td>\n",
       "      <td>Setting the date value programmatically  after...</td>\n",
       "      <td>setting date value programmatically initialisa...</td>\n",
       "    </tr>\n",
       "  </tbody>\n",
       "</table>\n",
       "<p>57007 rows × 9 columns</p>\n",
       "</div>"
      ],
      "text/plain": [
       "                                               issue_url issue_label  \\\n",
       "0      https://api.github.com/repos/deepnight/ldtk/is...         bug   \n",
       "1      https://api.github.com/repos/sef-global/sef-si...         bug   \n",
       "2      https://api.github.com/repos/cherry-script/che...         bug   \n",
       "3      https://api.github.com/repos/IgniteUI/igniteui...         bug   \n",
       "4      https://api.github.com/repos/OpenSIPS/opensips...         bug   \n",
       "...                                                  ...         ...   \n",
       "72284  https://api.github.com/repos/rancher/k3d/issue...    question   \n",
       "72285  https://api.github.com/repos/node-formidable/f...    question   \n",
       "72286  https://api.github.com/repos/ebaauw/homebridge...    question   \n",
       "72287  https://api.github.com/repos/envoyproxy/envoy/...    question   \n",
       "72288  https://api.github.com/repos/jonthornton/Datep...    question   \n",
       "\n",
       "           issue_created_at issue_author_association  \\\n",
       "0      2021-03-10T01:39:16Z              CONTRIBUTOR   \n",
       "1      2021-01-30T13:51:30Z             COLLABORATOR   \n",
       "2      2021-04-07T13:38:24Z              CONTRIBUTOR   \n",
       "3      2020-10-16T15:41:48Z              CONTRIBUTOR   \n",
       "4      2020-09-21T21:22:05Z                     NONE   \n",
       "...                     ...                      ...   \n",
       "72284  2021-04-03T01:21:15Z                     NONE   \n",
       "72285  2020-02-17T12:38:57Z                     NONE   \n",
       "72286  2021-03-16T00:45:36Z                     NONE   \n",
       "72287  2020-08-18T23:28:15Z                     NONE   \n",
       "72288  2020-02-24T13:51:01Z                     NONE   \n",
       "\n",
       "                                          repository_url  \\\n",
       "0            https://api.github.com/repos/deepnight/ldtk   \n",
       "1       https://api.github.com/repos/sef-global/sef-site   \n",
       "2      https://api.github.com/repos/cherry-script/che...   \n",
       "3      https://api.github.com/repos/IgniteUI/igniteui...   \n",
       "4         https://api.github.com/repos/OpenSIPS/opensips   \n",
       "...                                                  ...   \n",
       "72284           https://api.github.com/repos/rancher/k3d   \n",
       "72285  https://api.github.com/repos/node-formidable/f...   \n",
       "72286  https://api.github.com/repos/ebaauw/homebridge...   \n",
       "72287      https://api.github.com/repos/envoyproxy/envoy   \n",
       "72288  https://api.github.com/repos/jonthornton/Datep...   \n",
       "\n",
       "                                             issue_title  \\\n",
       "0      __tileSrcRect is null in Entities.ldtk Sample ...   \n",
       "1                   Update the blog link in the SEF Site   \n",
       "2      🐛 Parser cannot properly distinguish between p...   \n",
       "3      \"Row added\" snackbar is not visible if the gri...   \n",
       "4      [CRASH]  _tcp_write_on_socket crashes when flu...   \n",
       "...                                                  ...   \n",
       "72284  [HELP] Volume Mount hostpath: Unable to mount ...   \n",
       "72285        is form.progress valid for upload progress?   \n",
       "72286  RPi used for door contact sensors, warning in log   \n",
       "72287  Tail latency of envoy proxy is bad if every re...   \n",
       "72288  Setting the date value programmatically  after...   \n",
       "\n",
       "                                              issue_body  \\\n",
       "0      In the Entities example, we there are some `__...   \n",
       "1      **Describe the bug**\\r\\nUpdate the blog link i...   \n",
       "2      Consider these two expressions:\\r\\n```\\r\\nf (g...   \n",
       "3      ## Description  \\r\\nWhen grid has no height an...   \n",
       "4      <!--\\r\\nThank you for reporting a crash in Ope...   \n",
       "...                                                  ...   \n",
       "72284  hi Team I am facing the below issue. Any solut...   \n",
       "72285  I thought form.progress would get fired every ...   \n",
       "72286  Thank you for the most excellent plug-in!! \\r\\...   \n",
       "72287  We have envoy running as the front door servic...   \n",
       "72288  Hi,  Im using this Datepair, but i'm strugglin...   \n",
       "\n",
       "                                                    text  \\\n",
       "0      __tileSrcRect is null in Entities.ldtk Sample ...   \n",
       "1      Update the blog link in the SEF Site **Describ...   \n",
       "2      🐛 Parser cannot properly distinguish between p...   \n",
       "3      \"Row added\" snackbar is not visible if the gri...   \n",
       "4      [CRASH]  _tcp_write_on_socket crashes when flu...   \n",
       "...                                                  ...   \n",
       "72284  [HELP] Volume Mount hostpath: Unable to mount ...   \n",
       "72285  is form.progress valid for upload progress? I ...   \n",
       "72286  RPi used for door contact sensors, warning in ...   \n",
       "72287  Tail latency of envoy proxy is bad if every re...   \n",
       "72288  Setting the date value programmatically  after...   \n",
       "\n",
       "                                          processed_text  \n",
       "0      tilesrcrect null entitiesldtk sample nullable ...  \n",
       "1      update blog link sef site describe bug update ...  \n",
       "2      parser properly distinguish parenthesised expr...  \n",
       "3      row added snackbar visible grid small height d...  \n",
       "4      crash tcpwriteonsocket crash flushing async pe...  \n",
       "...                                                  ...  \n",
       "72284  help volume mount hostpath unable mount volume...  \n",
       "72285  formprogress valid upload progress thought for...  \n",
       "72286  rpi used door contact sensor warning log thank...  \n",
       "72287  tail latency envoy proxy bad every request cre...  \n",
       "72288  setting date value programmatically initialisa...  \n",
       "\n",
       "[57007 rows x 9 columns]"
      ]
     },
     "execution_count": 9,
     "metadata": {},
     "output_type": "execute_result"
    }
   ],
   "source": [
    "df"
   ]
  },
  {
   "cell_type": "code",
   "execution_count": 10,
   "metadata": {},
   "outputs": [],
   "source": [
    "new_df = df[['issue_label', 'processed_text']]\n",
    "new_df.to_csv('dataset2.csv', index=False)"
   ]
  }
 ],
 "metadata": {
  "kernelspec": {
   "display_name": "project_env",
   "language": "python",
   "name": "python3"
  },
  "language_info": {
   "codemirror_mode": {
    "name": "ipython",
    "version": 3
   },
   "file_extension": ".py",
   "mimetype": "text/x-python",
   "name": "python",
   "nbconvert_exporter": "python",
   "pygments_lexer": "ipython3",
   "version": "3.12.7"
  }
 },
 "nbformat": 4,
 "nbformat_minor": 2
}
