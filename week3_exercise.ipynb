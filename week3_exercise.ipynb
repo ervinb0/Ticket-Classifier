{
 "cells": [
  {
   "cell_type": "code",
   "execution_count": 1,
   "metadata": {},
   "outputs": [],
   "source": [
    "import pandas as pd"
   ]
  },
  {
   "cell_type": "code",
   "execution_count": 4,
   "metadata": {},
   "outputs": [
    {
     "data": {
      "text/plain": [
       "Index(['issue_url', 'issue_label', 'issue_created_at',\n",
       "       'issue_author_association', 'repository_url', 'issue_title',\n",
       "       'issue_body'],\n",
       "      dtype='object')"
      ]
     },
     "execution_count": 4,
     "metadata": {},
     "output_type": "execute_result"
    }
   ],
   "source": [
    "df = pd.read_csv('sample1.csv')\n",
    "df.columns"
   ]
  },
  {
   "cell_type": "code",
   "execution_count": 5,
   "metadata": {},
   "outputs": [],
   "source": [
    "df['text'] = df['issue_title']+df['issue_body'] #combining the fields"
   ]
  },
  {
   "cell_type": "code",
   "execution_count": 6,
   "metadata": {},
   "outputs": [
    {
     "data": {
      "text/plain": [
       "0        In the Entities example, we there are some `__...\n",
       "1        **Describe the bug**\\r\\nUpdate the blog link i...\n",
       "2        Consider these two expressions:\\r\\n```\\r\\nf (g...\n",
       "3        ## Description  \\r\\nWhen grid has no height an...\n",
       "4        <!--\\r\\nThank you for reporting a crash in Ope...\n",
       "                               ...                        \n",
       "72284    hi Team I am facing the below issue. Any solut...\n",
       "72285    I thought form.progress would get fired every ...\n",
       "72286    Thank you for the most excellent plug-in!! \\r\\...\n",
       "72287    We have envoy running as the front door servic...\n",
       "72288    Hi,  Im using this Datepair, but i'm strugglin...\n",
       "Name: issue_body, Length: 72289, dtype: object"
      ]
     },
     "execution_count": 6,
     "metadata": {},
     "output_type": "execute_result"
    }
   ],
   "source": [
    "df['issue_body']"
   ]
  },
  {
   "cell_type": "code",
   "execution_count": 7,
   "metadata": {},
   "outputs": [
    {
     "data": {
      "text/plain": [
       "issue_label\n",
       "bug            36110\n",
       "enhancement    29937\n",
       "question        6242\n",
       "dtype: int64"
      ]
     },
     "execution_count": 7,
     "metadata": {},
     "output_type": "execute_result"
    }
   ],
   "source": [
    "df.groupby('issue_label').size()"
   ]
  },
  {
   "cell_type": "code",
   "execution_count": null,
   "metadata": {},
   "outputs": [
    {
     "data": {
      "text/plain": [
       "issue_label\n",
       "bug            36110\n",
       "enhancement    29937\n",
       "question        6242\n",
       "Name: count, dtype: int64"
      ]
     },
     "execution_count": 8,
     "metadata": {},
     "output_type": "execute_result"
    }
   ],
   "source": [
    "df['issue_label'].value_counts() #very unbalanced dataset more bugs than questions"
   ]
  },
  {
   "cell_type": "code",
   "execution_count": null,
   "metadata": {},
   "outputs": [],
   "source": [
    "#some titles contain in square brackets words like bug, it's suggested to remove those.\n",
    "#duplication removal "
   ]
  },
  {
   "cell_type": "code",
   "execution_count": null,
   "metadata": {},
   "outputs": [],
   "source": [
    "#how to check hypotheses\n",
    "df['issue_label']\n",
    "df.groupby('issue_label')['issue_length'].mean() \n",
    "#check question mark counter in photos\n",
    "#dont focus too much on feature engineering as its not the focus of this course"
   ]
  }
 ],
 "metadata": {
  "kernelspec": {
   "display_name": "project_ai_course",
   "language": "python",
   "name": "python3"
  },
  "language_info": {
   "codemirror_mode": {
    "name": "ipython",
    "version": 3
   },
   "file_extension": ".py",
   "mimetype": "text/x-python",
   "name": "python",
   "nbconvert_exporter": "python",
   "pygments_lexer": "ipython3",
   "version": "3.12.7"
  }
 },
 "nbformat": 4,
 "nbformat_minor": 2
}
